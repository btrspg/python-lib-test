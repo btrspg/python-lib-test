{
 "cells": [
  {
   "cell_type": "markdown",
   "metadata": {},
   "source": [
    "## Pandas Test"
   ]
  },
  {
   "cell_type": "markdown",
   "metadata": {},
   "source": [
    "### 链接两个相同行数的表（例如label表和features表）"
   ]
  },
  {
   "cell_type": "code",
   "execution_count": 2,
   "metadata": {},
   "outputs": [],
   "source": [
    "import pandas as pd\n",
    "import numpy as np"
   ]
  },
  {
   "cell_type": "code",
   "execution_count": 3,
   "metadata": {},
   "outputs": [
    {
     "name": "stdout",
     "output_type": "stream",
     "text": [
      "      label\n",
      "0  0.538961\n",
      "1  0.070293\n",
      "2  0.893145\n",
      "3  0.649362\n",
      "4  0.408498\n",
      "5  0.489013\n",
      "6  0.992167\n",
      "7  0.115729\n",
      "8  0.964818\n",
      "9  0.012340\n",
      "         f1        f2        f3        f4\n",
      "0  0.033857  0.310760  0.329643  0.658334\n",
      "1  0.376791  0.166780  0.130434  0.510528\n",
      "2  0.628804  0.986148  0.889918  0.714725\n",
      "3  0.974871  0.112850  0.663910  0.687845\n",
      "4  0.170368  0.644470  0.595580  0.823503\n",
      "5  0.554152  0.882449  0.852842  0.781168\n",
      "6  0.776213  0.399704  0.757911  0.328923\n",
      "7  0.787387  0.787427  0.676500  0.611522\n",
      "8  0.402845  0.283437  0.196224  0.383492\n",
      "9  0.098337  0.074794  0.114334  0.355195\n"
     ]
    }
   ],
   "source": [
    "label_table=pd.DataFrame(np.random.rand(10,1),columns=['label'])\n",
    "feature_table = pd.DataFrame(np.random.rand(10,4),columns=['f1','f2','f3','f4'])\n",
    "print(label_table)\n",
    "print(feature_table)"
   ]
  },
  {
   "cell_type": "code",
   "execution_count": 4,
   "metadata": {},
   "outputs": [
    {
     "data": {
      "text/html": [
       "<div>\n",
       "<style scoped>\n",
       "    .dataframe tbody tr th:only-of-type {\n",
       "        vertical-align: middle;\n",
       "    }\n",
       "\n",
       "    .dataframe tbody tr th {\n",
       "        vertical-align: top;\n",
       "    }\n",
       "\n",
       "    .dataframe thead th {\n",
       "        text-align: right;\n",
       "    }\n",
       "</style>\n",
       "<table border=\"1\" class=\"dataframe\">\n",
       "  <thead>\n",
       "    <tr style=\"text-align: right;\">\n",
       "      <th></th>\n",
       "      <th>label</th>\n",
       "      <th>f1</th>\n",
       "      <th>f2</th>\n",
       "      <th>f3</th>\n",
       "      <th>f4</th>\n",
       "    </tr>\n",
       "  </thead>\n",
       "  <tbody>\n",
       "    <tr>\n",
       "      <th>0</th>\n",
       "      <td>0.538961</td>\n",
       "      <td>0.033857</td>\n",
       "      <td>0.310760</td>\n",
       "      <td>0.329643</td>\n",
       "      <td>0.658334</td>\n",
       "    </tr>\n",
       "    <tr>\n",
       "      <th>1</th>\n",
       "      <td>0.070293</td>\n",
       "      <td>0.376791</td>\n",
       "      <td>0.166780</td>\n",
       "      <td>0.130434</td>\n",
       "      <td>0.510528</td>\n",
       "    </tr>\n",
       "    <tr>\n",
       "      <th>2</th>\n",
       "      <td>0.893145</td>\n",
       "      <td>0.628804</td>\n",
       "      <td>0.986148</td>\n",
       "      <td>0.889918</td>\n",
       "      <td>0.714725</td>\n",
       "    </tr>\n",
       "    <tr>\n",
       "      <th>3</th>\n",
       "      <td>0.649362</td>\n",
       "      <td>0.974871</td>\n",
       "      <td>0.112850</td>\n",
       "      <td>0.663910</td>\n",
       "      <td>0.687845</td>\n",
       "    </tr>\n",
       "    <tr>\n",
       "      <th>4</th>\n",
       "      <td>0.408498</td>\n",
       "      <td>0.170368</td>\n",
       "      <td>0.644470</td>\n",
       "      <td>0.595580</td>\n",
       "      <td>0.823503</td>\n",
       "    </tr>\n",
       "    <tr>\n",
       "      <th>5</th>\n",
       "      <td>0.489013</td>\n",
       "      <td>0.554152</td>\n",
       "      <td>0.882449</td>\n",
       "      <td>0.852842</td>\n",
       "      <td>0.781168</td>\n",
       "    </tr>\n",
       "    <tr>\n",
       "      <th>6</th>\n",
       "      <td>0.992167</td>\n",
       "      <td>0.776213</td>\n",
       "      <td>0.399704</td>\n",
       "      <td>0.757911</td>\n",
       "      <td>0.328923</td>\n",
       "    </tr>\n",
       "    <tr>\n",
       "      <th>7</th>\n",
       "      <td>0.115729</td>\n",
       "      <td>0.787387</td>\n",
       "      <td>0.787427</td>\n",
       "      <td>0.676500</td>\n",
       "      <td>0.611522</td>\n",
       "    </tr>\n",
       "    <tr>\n",
       "      <th>8</th>\n",
       "      <td>0.964818</td>\n",
       "      <td>0.402845</td>\n",
       "      <td>0.283437</td>\n",
       "      <td>0.196224</td>\n",
       "      <td>0.383492</td>\n",
       "    </tr>\n",
       "    <tr>\n",
       "      <th>9</th>\n",
       "      <td>0.012340</td>\n",
       "      <td>0.098337</td>\n",
       "      <td>0.074794</td>\n",
       "      <td>0.114334</td>\n",
       "      <td>0.355195</td>\n",
       "    </tr>\n",
       "  </tbody>\n",
       "</table>\n",
       "</div>"
      ],
      "text/plain": [
       "      label        f1        f2        f3        f4\n",
       "0  0.538961  0.033857  0.310760  0.329643  0.658334\n",
       "1  0.070293  0.376791  0.166780  0.130434  0.510528\n",
       "2  0.893145  0.628804  0.986148  0.889918  0.714725\n",
       "3  0.649362  0.974871  0.112850  0.663910  0.687845\n",
       "4  0.408498  0.170368  0.644470  0.595580  0.823503\n",
       "5  0.489013  0.554152  0.882449  0.852842  0.781168\n",
       "6  0.992167  0.776213  0.399704  0.757911  0.328923\n",
       "7  0.115729  0.787387  0.787427  0.676500  0.611522\n",
       "8  0.964818  0.402845  0.283437  0.196224  0.383492\n",
       "9  0.012340  0.098337  0.074794  0.114334  0.355195"
      ]
     },
     "execution_count": 4,
     "metadata": {},
     "output_type": "execute_result"
    }
   ],
   "source": [
    "#concat\n",
    "pd.concat([label_table,feature_table],axis=1)\n",
    "# 满足我的要求"
   ]
  },
  {
   "cell_type": "markdown",
   "metadata": {},
   "source": [
    "### 链接具有相同列的表\n",
    "\n",
    "- 读取两个csv文件\n",
    "- 将每个文件中的两列组合起来成为一列\n",
    "- 根据新组合的一列进行表的merge\n",
    "- 将数据进行归一化"
   ]
  },
  {
   "cell_type": "code",
   "execution_count": 5,
   "metadata": {},
   "outputs": [
    {
     "name": "stdout",
     "output_type": "stream",
     "text": [
      "['./demo_data/GL000228.1.csv', './demo_data/GL000215.1.csv', './demo_data/6.csv']\n"
     ]
    }
   ],
   "source": [
    "import glob\n",
    "\n",
    "files = glob.glob('./demo_data/*csv')\n",
    "print(files[1:4])"
   ]
  },
  {
   "cell_type": "code",
   "execution_count": 8,
   "metadata": {},
   "outputs": [
    {
     "name": "stdout",
     "output_type": "stream",
     "text": [
      "   Unnamed: 0  gc  length  count\n",
      "0           0  33     440     97\n",
      "1           1  51     671      2\n",
      "2           2  57      50      3\n",
      "3           3  20     162      1\n",
      "4           4  42     294    184\n",
      "   Unnamed: 0  gc  length  count\n",
      "0           0  33     440     81\n",
      "1           1  18     428      1\n",
      "2           2  51     671      2\n",
      "3           3  57      50      1\n",
      "4           4  42     294    195\n"
     ]
    }
   ],
   "source": [
    "test1 = pd.read_csv(files[3])\n",
    "test2 = pd.read_csv(files[5])\n",
    "\n",
    "print(test1.head())\n",
    "print(test2.head())"
   ]
  },
  {
   "cell_type": "code",
   "execution_count": 9,
   "metadata": {},
   "outputs": [
    {
     "name": "stdout",
     "output_type": "stream",
     "text": [
      "   Unnamed: 0  gc  length  count     idx\n",
      "0           0  33     440     97  33-440\n",
      "1           1  51     671      2  51-671\n",
      "2           2  57      50      3   57-50\n",
      "3           3  20     162      1  20-162\n",
      "4           4  42     294    184  42-294\n",
      "   Unnamed: 0  gc  length  count     idx\n",
      "0           0  33     440     81  33-440\n",
      "1           1  18     428      1  18-428\n",
      "2           2  51     671      2  51-671\n",
      "3           3  57      50      1   57-50\n",
      "4           4  42     294    195  42-294\n"
     ]
    }
   ],
   "source": [
    "test1['idx'] = test1['gc'].astype(str).str.cat(test1['length'].astype(str),sep='-')\n",
    "test2['idx'] = test2['gc'].astype(str).str.cat(test2['length'].astype(str),sep='-')\n",
    "\n",
    "print(test1.head())\n",
    "print(test2.head())"
   ]
  },
  {
   "cell_type": "code",
   "execution_count": 16,
   "metadata": {},
   "outputs": [
    {
     "name": "stdout",
     "output_type": "stream",
     "text": [
      "        count_a  count_b\n",
      "idx                     \n",
      "33-440     97.0     81.0\n",
      "51-671      2.0      2.0\n",
      "57-50       3.0      1.0\n",
      "20-162      1.0      0.0\n",
      "42-294    184.0    195.0\n"
     ]
    }
   ],
   "source": [
    "merge_data = pd.merge(test1[['idx','count']],test2[['idx','count']],on='idx',how='outer',suffixes=['_a','_b']).fillna(0)\n",
    "merge_data.set_index('idx',inplace=True)\n",
    "print(merge_data.head())"
   ]
  },
  {
   "cell_type": "code",
   "execution_count": 17,
   "metadata": {},
   "outputs": [
    {
     "name": "stdout",
     "output_type": "stream",
     "text": [
      "         count_a   count_b\n",
      "idx                       \n",
      "33-440  0.248272  0.192806\n",
      "51-671 -0.033627 -0.032265\n",
      "57-50  -0.030659 -0.035114\n",
      "20-162 -0.036594 -0.037963\n",
      "42-294  0.506433  0.517593\n"
     ]
    }
   ],
   "source": [
    "merge_data = (merge_data-merge_data.mean())/(merge_data.max()-merge_data.min())\n",
    "print(merge_data.head())"
   ]
  },
  {
   "cell_type": "code",
   "execution_count": null,
   "metadata": {},
   "outputs": [],
   "source": []
  }
 ],
 "metadata": {
  "kernelspec": {
   "display_name": "Python 3",
   "language": "python",
   "name": "python3"
  },
  "language_info": {
   "codemirror_mode": {
    "name": "ipython",
    "version": 3
   },
   "file_extension": ".py",
   "mimetype": "text/x-python",
   "name": "python",
   "nbconvert_exporter": "python",
   "pygments_lexer": "ipython3",
   "version": "3.6.4"
  }
 },
 "nbformat": 4,
 "nbformat_minor": 2
}
