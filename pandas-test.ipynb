{
 "cells": [
  {
   "cell_type": "markdown",
   "metadata": {},
   "source": [
    "## Pandas Test"
   ]
  },
  {
   "cell_type": "markdown",
   "metadata": {},
   "source": [
    "### 链接两个相同行数的表（例如label表和features表）"
   ]
  },
  {
   "cell_type": "code",
   "execution_count": 1,
   "metadata": {},
   "outputs": [],
   "source": [
    "import pandas as pd\n",
    "import numpy as np"
   ]
  },
  {
   "cell_type": "code",
   "execution_count": 2,
   "metadata": {},
   "outputs": [
    {
     "name": "stdout",
     "output_type": "stream",
     "text": [
      "      label\n",
      "0  0.987088\n",
      "1  0.813024\n",
      "2  0.689005\n",
      "3  0.897038\n",
      "4  0.993910\n",
      "5  0.093595\n",
      "6  0.195583\n",
      "7  0.097030\n",
      "8  0.245415\n",
      "9  0.118596\n",
      "         f1        f2        f3        f4\n",
      "0  0.550366  0.528297  0.485124  0.676593\n",
      "1  0.226436  0.721070  0.355616  0.132010\n",
      "2  0.026849  0.065694  0.027596  0.090857\n",
      "3  0.791566  0.033966  0.402950  0.309869\n",
      "4  0.420086  0.054374  0.962474  0.556698\n",
      "5  0.632735  0.535316  0.336960  0.325182\n",
      "6  0.463349  0.152946  0.217863  0.299785\n",
      "7  0.876772  0.224580  0.910080  0.476660\n",
      "8  0.129188  0.291416  0.865368  0.733969\n",
      "9  0.939076  0.482990  0.913257  0.335002\n"
     ]
    }
   ],
   "source": [
    "label_table=pd.DataFrame(np.random.rand(10,1),columns=['label'])\n",
    "feature_table = pd.DataFrame(np.random.rand(10,4),columns=['f1','f2','f3','f4'])\n",
    "print(label_table)\n",
    "print(feature_table)"
   ]
  },
  {
   "cell_type": "code",
   "execution_count": 3,
   "metadata": {},
   "outputs": [
    {
     "data": {
      "text/html": [
       "<div>\n",
       "<style scoped>\n",
       "    .dataframe tbody tr th:only-of-type {\n",
       "        vertical-align: middle;\n",
       "    }\n",
       "\n",
       "    .dataframe tbody tr th {\n",
       "        vertical-align: top;\n",
       "    }\n",
       "\n",
       "    .dataframe thead th {\n",
       "        text-align: right;\n",
       "    }\n",
       "</style>\n",
       "<table border=\"1\" class=\"dataframe\">\n",
       "  <thead>\n",
       "    <tr style=\"text-align: right;\">\n",
       "      <th></th>\n",
       "      <th>label</th>\n",
       "      <th>f1</th>\n",
       "      <th>f2</th>\n",
       "      <th>f3</th>\n",
       "      <th>f4</th>\n",
       "    </tr>\n",
       "  </thead>\n",
       "  <tbody>\n",
       "    <tr>\n",
       "      <th>0</th>\n",
       "      <td>0.987088</td>\n",
       "      <td>0.550366</td>\n",
       "      <td>0.528297</td>\n",
       "      <td>0.485124</td>\n",
       "      <td>0.676593</td>\n",
       "    </tr>\n",
       "    <tr>\n",
       "      <th>1</th>\n",
       "      <td>0.813024</td>\n",
       "      <td>0.226436</td>\n",
       "      <td>0.721070</td>\n",
       "      <td>0.355616</td>\n",
       "      <td>0.132010</td>\n",
       "    </tr>\n",
       "    <tr>\n",
       "      <th>2</th>\n",
       "      <td>0.689005</td>\n",
       "      <td>0.026849</td>\n",
       "      <td>0.065694</td>\n",
       "      <td>0.027596</td>\n",
       "      <td>0.090857</td>\n",
       "    </tr>\n",
       "    <tr>\n",
       "      <th>3</th>\n",
       "      <td>0.897038</td>\n",
       "      <td>0.791566</td>\n",
       "      <td>0.033966</td>\n",
       "      <td>0.402950</td>\n",
       "      <td>0.309869</td>\n",
       "    </tr>\n",
       "    <tr>\n",
       "      <th>4</th>\n",
       "      <td>0.993910</td>\n",
       "      <td>0.420086</td>\n",
       "      <td>0.054374</td>\n",
       "      <td>0.962474</td>\n",
       "      <td>0.556698</td>\n",
       "    </tr>\n",
       "    <tr>\n",
       "      <th>5</th>\n",
       "      <td>0.093595</td>\n",
       "      <td>0.632735</td>\n",
       "      <td>0.535316</td>\n",
       "      <td>0.336960</td>\n",
       "      <td>0.325182</td>\n",
       "    </tr>\n",
       "    <tr>\n",
       "      <th>6</th>\n",
       "      <td>0.195583</td>\n",
       "      <td>0.463349</td>\n",
       "      <td>0.152946</td>\n",
       "      <td>0.217863</td>\n",
       "      <td>0.299785</td>\n",
       "    </tr>\n",
       "    <tr>\n",
       "      <th>7</th>\n",
       "      <td>0.097030</td>\n",
       "      <td>0.876772</td>\n",
       "      <td>0.224580</td>\n",
       "      <td>0.910080</td>\n",
       "      <td>0.476660</td>\n",
       "    </tr>\n",
       "    <tr>\n",
       "      <th>8</th>\n",
       "      <td>0.245415</td>\n",
       "      <td>0.129188</td>\n",
       "      <td>0.291416</td>\n",
       "      <td>0.865368</td>\n",
       "      <td>0.733969</td>\n",
       "    </tr>\n",
       "    <tr>\n",
       "      <th>9</th>\n",
       "      <td>0.118596</td>\n",
       "      <td>0.939076</td>\n",
       "      <td>0.482990</td>\n",
       "      <td>0.913257</td>\n",
       "      <td>0.335002</td>\n",
       "    </tr>\n",
       "  </tbody>\n",
       "</table>\n",
       "</div>"
      ],
      "text/plain": [
       "      label        f1        f2        f3        f4\n",
       "0  0.987088  0.550366  0.528297  0.485124  0.676593\n",
       "1  0.813024  0.226436  0.721070  0.355616  0.132010\n",
       "2  0.689005  0.026849  0.065694  0.027596  0.090857\n",
       "3  0.897038  0.791566  0.033966  0.402950  0.309869\n",
       "4  0.993910  0.420086  0.054374  0.962474  0.556698\n",
       "5  0.093595  0.632735  0.535316  0.336960  0.325182\n",
       "6  0.195583  0.463349  0.152946  0.217863  0.299785\n",
       "7  0.097030  0.876772  0.224580  0.910080  0.476660\n",
       "8  0.245415  0.129188  0.291416  0.865368  0.733969\n",
       "9  0.118596  0.939076  0.482990  0.913257  0.335002"
      ]
     },
     "execution_count": 3,
     "metadata": {},
     "output_type": "execute_result"
    }
   ],
   "source": [
    "#concat\n",
    "pd.concat([label_table,feature_table],axis=1)\n",
    "# 满足我的要求"
   ]
  },
  {
   "cell_type": "code",
   "execution_count": null,
   "metadata": {},
   "outputs": [],
   "source": []
  }
 ],
 "metadata": {
  "kernelspec": {
   "display_name": "Python 3",
   "language": "python",
   "name": "python3"
  },
  "language_info": {
   "codemirror_mode": {
    "name": "ipython",
    "version": 3
   },
   "file_extension": ".py",
   "mimetype": "text/x-python",
   "name": "python",
   "nbconvert_exporter": "python",
   "pygments_lexer": "ipython3",
   "version": "3.6.4"
  }
 },
 "nbformat": 4,
 "nbformat_minor": 2
}
