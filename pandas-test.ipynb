{
 "cells": [
  {
   "cell_type": "markdown",
   "metadata": {},
   "source": [
    "## Pandas Test"
   ]
  },
  {
   "cell_type": "markdown",
   "metadata": {},
   "source": [
    "### 链接两个相同行数的表（例如label表和features表）"
   ]
  },
  {
   "cell_type": "code",
   "execution_count": 1,
   "metadata": {},
   "outputs": [],
   "source": [
    "import pandas as pd\n",
    "import numpy as np"
   ]
  },
  {
   "cell_type": "code",
   "execution_count": 2,
   "metadata": {},
   "outputs": [
    {
     "name": "stdout",
     "output_type": "stream",
     "text": [
      "      label\n",
      "0  0.632606\n",
      "1  0.004332\n",
      "2  0.817545\n",
      "3  0.019003\n",
      "4  0.704953\n",
      "5  0.940746\n",
      "6  0.030686\n",
      "7  0.663057\n",
      "8  0.567935\n",
      "9  0.872870\n",
      "         f1        f2        f3        f4\n",
      "0  0.862746  0.945843  0.010909  0.363646\n",
      "1  0.302506  0.066073  0.518605  0.875364\n",
      "2  0.992173  0.579042  0.232997  0.174538\n",
      "3  0.206648  0.466731  0.933301  0.513507\n",
      "4  0.977955  0.056595  0.010475  0.249276\n",
      "5  0.443546  0.482316  0.739564  0.054043\n",
      "6  0.680589  0.984729  0.452558  0.703832\n",
      "7  0.949912  0.661279  0.680935  0.995492\n",
      "8  0.053318  0.856195  0.747588  0.488759\n",
      "9  0.706534  0.690040  0.899088  0.840678\n"
     ]
    }
   ],
   "source": [
    "label_table=pd.DataFrame(np.random.rand(10,1),columns=['label'])\n",
    "feature_table = pd.DataFrame(np.random.rand(10,4),columns=['f1','f2','f3','f4'])\n",
    "print(label_table)\n",
    "print(feature_table)"
   ]
  },
  {
   "cell_type": "code",
   "execution_count": 3,
   "metadata": {},
   "outputs": [
    {
     "data": {
      "text/html": [
       "<div>\n",
       "<style scoped>\n",
       "    .dataframe tbody tr th:only-of-type {\n",
       "        vertical-align: middle;\n",
       "    }\n",
       "\n",
       "    .dataframe tbody tr th {\n",
       "        vertical-align: top;\n",
       "    }\n",
       "\n",
       "    .dataframe thead th {\n",
       "        text-align: right;\n",
       "    }\n",
       "</style>\n",
       "<table border=\"1\" class=\"dataframe\">\n",
       "  <thead>\n",
       "    <tr style=\"text-align: right;\">\n",
       "      <th></th>\n",
       "      <th>label</th>\n",
       "      <th>f1</th>\n",
       "      <th>f2</th>\n",
       "      <th>f3</th>\n",
       "      <th>f4</th>\n",
       "    </tr>\n",
       "  </thead>\n",
       "  <tbody>\n",
       "    <tr>\n",
       "      <th>0</th>\n",
       "      <td>0.632606</td>\n",
       "      <td>0.862746</td>\n",
       "      <td>0.945843</td>\n",
       "      <td>0.010909</td>\n",
       "      <td>0.363646</td>\n",
       "    </tr>\n",
       "    <tr>\n",
       "      <th>1</th>\n",
       "      <td>0.004332</td>\n",
       "      <td>0.302506</td>\n",
       "      <td>0.066073</td>\n",
       "      <td>0.518605</td>\n",
       "      <td>0.875364</td>\n",
       "    </tr>\n",
       "    <tr>\n",
       "      <th>2</th>\n",
       "      <td>0.817545</td>\n",
       "      <td>0.992173</td>\n",
       "      <td>0.579042</td>\n",
       "      <td>0.232997</td>\n",
       "      <td>0.174538</td>\n",
       "    </tr>\n",
       "    <tr>\n",
       "      <th>3</th>\n",
       "      <td>0.019003</td>\n",
       "      <td>0.206648</td>\n",
       "      <td>0.466731</td>\n",
       "      <td>0.933301</td>\n",
       "      <td>0.513507</td>\n",
       "    </tr>\n",
       "    <tr>\n",
       "      <th>4</th>\n",
       "      <td>0.704953</td>\n",
       "      <td>0.977955</td>\n",
       "      <td>0.056595</td>\n",
       "      <td>0.010475</td>\n",
       "      <td>0.249276</td>\n",
       "    </tr>\n",
       "    <tr>\n",
       "      <th>5</th>\n",
       "      <td>0.940746</td>\n",
       "      <td>0.443546</td>\n",
       "      <td>0.482316</td>\n",
       "      <td>0.739564</td>\n",
       "      <td>0.054043</td>\n",
       "    </tr>\n",
       "    <tr>\n",
       "      <th>6</th>\n",
       "      <td>0.030686</td>\n",
       "      <td>0.680589</td>\n",
       "      <td>0.984729</td>\n",
       "      <td>0.452558</td>\n",
       "      <td>0.703832</td>\n",
       "    </tr>\n",
       "    <tr>\n",
       "      <th>7</th>\n",
       "      <td>0.663057</td>\n",
       "      <td>0.949912</td>\n",
       "      <td>0.661279</td>\n",
       "      <td>0.680935</td>\n",
       "      <td>0.995492</td>\n",
       "    </tr>\n",
       "    <tr>\n",
       "      <th>8</th>\n",
       "      <td>0.567935</td>\n",
       "      <td>0.053318</td>\n",
       "      <td>0.856195</td>\n",
       "      <td>0.747588</td>\n",
       "      <td>0.488759</td>\n",
       "    </tr>\n",
       "    <tr>\n",
       "      <th>9</th>\n",
       "      <td>0.872870</td>\n",
       "      <td>0.706534</td>\n",
       "      <td>0.690040</td>\n",
       "      <td>0.899088</td>\n",
       "      <td>0.840678</td>\n",
       "    </tr>\n",
       "  </tbody>\n",
       "</table>\n",
       "</div>"
      ],
      "text/plain": [
       "      label        f1        f2        f3        f4\n",
       "0  0.632606  0.862746  0.945843  0.010909  0.363646\n",
       "1  0.004332  0.302506  0.066073  0.518605  0.875364\n",
       "2  0.817545  0.992173  0.579042  0.232997  0.174538\n",
       "3  0.019003  0.206648  0.466731  0.933301  0.513507\n",
       "4  0.704953  0.977955  0.056595  0.010475  0.249276\n",
       "5  0.940746  0.443546  0.482316  0.739564  0.054043\n",
       "6  0.030686  0.680589  0.984729  0.452558  0.703832\n",
       "7  0.663057  0.949912  0.661279  0.680935  0.995492\n",
       "8  0.567935  0.053318  0.856195  0.747588  0.488759\n",
       "9  0.872870  0.706534  0.690040  0.899088  0.840678"
      ]
     },
     "execution_count": 3,
     "metadata": {},
     "output_type": "execute_result"
    }
   ],
   "source": [
    "#concat\n",
    "pd.concat([label_table,feature_table],axis=1)\n",
    "# 满足我的要求"
   ]
  },
  {
   "cell_type": "markdown",
   "metadata": {},
   "source": [
    "### 链接具有相同列的表\n",
    "\n",
    "- 读取两个csv文件\n",
    "- 将每个文件中的两列组合起来成为一列\n",
    "- 根据新组合的一列进行表的merge\n",
    "- 将数据进行归一化"
   ]
  },
  {
   "cell_type": "code",
   "execution_count": 4,
   "metadata": {},
   "outputs": [
    {
     "name": "stdout",
     "output_type": "stream",
     "text": [
      "['./demo_data/6.csv', './demo_data/7.csv', './demo_data/5.csv']\n"
     ]
    }
   ],
   "source": [
    "import glob\n",
    "\n",
    "files = glob.glob('./demo_data/*csv')\n",
    "print(files[1:4])"
   ]
  },
  {
   "cell_type": "code",
   "execution_count": 5,
   "metadata": {},
   "outputs": [
    {
     "name": "stdout",
     "output_type": "stream",
     "text": [
      "   Unnamed: 0  gc  length  count\n",
      "0           0  33     440     86\n",
      "1           1  87     229      1\n",
      "2           2  51     671      3\n",
      "3           3  20     162      2\n",
      "4           4  42     294    192\n",
      "   Unnamed: 0  gc  length  count\n",
      "0           0  33     440     82\n",
      "1           1  51     671      1\n",
      "2           2  37     754      5\n",
      "3           3  42     294    190\n",
      "4           4  66     416      1\n"
     ]
    }
   ],
   "source": [
    "test1 = pd.read_csv(files[3])\n",
    "test2 = pd.read_csv(files[5])\n",
    "\n",
    "print(test1.head())\n",
    "print(test2.head())"
   ]
  },
  {
   "cell_type": "code",
   "execution_count": 6,
   "metadata": {},
   "outputs": [
    {
     "name": "stdout",
     "output_type": "stream",
     "text": [
      "   Unnamed: 0  gc  length  count     idx\n",
      "0           0  33     440     86  33-440\n",
      "1           1  87     229      1  87-229\n",
      "2           2  51     671      3  51-671\n",
      "3           3  20     162      2  20-162\n",
      "4           4  42     294    192  42-294\n",
      "   Unnamed: 0  gc  length  count     idx\n",
      "0           0  33     440     82  33-440\n",
      "1           1  51     671      1  51-671\n",
      "2           2  37     754      5  37-754\n",
      "3           3  42     294    190  42-294\n",
      "4           4  66     416      1  66-416\n"
     ]
    }
   ],
   "source": [
    "test1['idx'] = test1['gc'].astype(str).str.cat(test1['length'].astype(str),sep='-')\n",
    "test2['idx'] = test2['gc'].astype(str).str.cat(test2['length'].astype(str),sep='-')\n",
    "\n",
    "print(test1.head())\n",
    "print(test2.head())"
   ]
  },
  {
   "cell_type": "code",
   "execution_count": 7,
   "metadata": {},
   "outputs": [
    {
     "name": "stdout",
     "output_type": "stream",
     "text": [
      "        count_a  count_b\n",
      "idx                     \n",
      "33-440     86.0     82.0\n",
      "87-229      1.0      0.0\n",
      "51-671      3.0      1.0\n",
      "20-162      2.0      0.0\n",
      "42-294    192.0    190.0\n"
     ]
    }
   ],
   "source": [
    "merge_data = pd.merge(test1[['idx','count']],test2[['idx','count']],on='idx',how='outer',suffixes=['_a','_b']).fillna(0)\n",
    "merge_data.set_index('idx',inplace=True)\n",
    "print(merge_data.head())"
   ]
  },
  {
   "cell_type": "code",
   "execution_count": 8,
   "metadata": {},
   "outputs": [
    {
     "name": "stdout",
     "output_type": "stream",
     "text": [
      "         count_a   count_b\n",
      "idx                       \n",
      "33-440  0.185371  0.169462\n",
      "87-229 -0.075366 -0.076784\n",
      "51-671 -0.069231 -0.073781\n",
      "20-162 -0.072298 -0.076784\n",
      "42-294  0.510524  0.493786\n"
     ]
    }
   ],
   "source": [
    "merge_data = (merge_data-merge_data.mean())/(merge_data.max()-merge_data.min())\n",
    "print(merge_data.head())"
   ]
  },
  {
   "cell_type": "markdown",
   "metadata": {},
   "source": [
    "## 找出一列中uniq的类型，然后进行统计\n"
   ]
  },
  {
   "cell_type": "code",
   "execution_count": 9,
   "metadata": {},
   "outputs": [
    {
     "name": "stdout",
     "output_type": "stream",
     "text": [
      "0     27\n",
      "1     25\n",
      "2     71\n",
      "3     57\n",
      "4     53\n",
      "5     55\n",
      "6     89\n",
      "7     98\n",
      "8     63\n",
      "9      2\n",
      "10    60\n",
      "11    12\n",
      "12    23\n",
      "Name: depth, dtype: int64\n",
      "13    30\n",
      "14    89\n",
      "15    24\n",
      "16    77\n",
      "17    18\n",
      "18    63\n",
      "19    68\n",
      "20    37\n",
      "21    49\n",
      "22    90\n",
      "23    18\n",
      "24     0\n",
      "25     0\n",
      "26    69\n",
      "Name: depth, dtype: int64\n",
      "27    11\n",
      "28    28\n",
      "29    36\n",
      "30    29\n",
      "31    30\n",
      "32    97\n",
      "33    80\n",
      "34    45\n",
      "35    93\n",
      "Name: depth, dtype: int64\n",
      "36    50\n",
      "37    50\n",
      "38    79\n",
      "39    87\n",
      "40    46\n",
      "41    86\n",
      "42    84\n",
      "43    60\n",
      "44    22\n",
      "45    42\n",
      "46    43\n",
      "47    96\n",
      "48    63\n",
      "49    63\n",
      "50    59\n",
      "51     2\n",
      "52    21\n",
      "53    32\n",
      "54    21\n",
      "55    18\n",
      "56    79\n",
      "57    98\n",
      "58    94\n",
      "Name: depth, dtype: int64\n"
     ]
    }
   ],
   "source": [
    "pd_data = pd.read_csv('demo_data/CG.txt',sep='\\t')\n",
    "for tp in pd_data['type'].unique():\n",
    "    print(pd_data[pd_data['type'] == tp]['depth'])"
   ]
  },
  {
   "cell_type": "code",
   "execution_count": null,
   "metadata": {},
   "outputs": [],
   "source": []
  }
 ],
 "metadata": {
  "kernelspec": {
   "display_name": "Python 3",
   "language": "python",
   "name": "python3"
  },
  "language_info": {
   "codemirror_mode": {
    "name": "ipython",
    "version": 3
   },
   "file_extension": ".py",
   "mimetype": "text/x-python",
   "name": "python",
   "nbconvert_exporter": "python",
   "pygments_lexer": "ipython3",
   "version": "3.6.4"
  }
 },
 "nbformat": 4,
 "nbformat_minor": 2
}
