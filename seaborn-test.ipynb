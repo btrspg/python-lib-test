{
 "cells": [
  {
   "cell_type": "markdown",
   "metadata": {},
   "source": [
    "## Seaborn 画图"
   ]
  },
  {
   "cell_type": "code",
   "execution_count": null,
   "metadata": {},
   "outputs": [],
   "source": [
    "import seaborn as sns\n",
    "import pandas as pd\n",
    "import matplotlib.pyplot as plt\n",
    "import warnings\n",
    "warnings.filterwarnings(\"ignore\")\n",
    "# sns.set_style(\"whitegrid\")\n",
    "tips = sns.load_dataset(\"tips\")"
   ]
  },
  {
   "cell_type": "code",
   "execution_count": null,
   "metadata": {},
   "outputs": [],
   "source": [
    "print(tips.head())"
   ]
  },
  {
   "cell_type": "code",
   "execution_count": null,
   "metadata": {},
   "outputs": [],
   "source": [
    "ax = sns.boxplot(x=\"size\", y=\"tip\", data=tips)\n",
    "ax = sns.pointplot(x=\"size\",y='tip',data=tips,palette=\"Set2\",errwidth=0)"
   ]
  },
  {
   "cell_type": "code",
   "execution_count": null,
   "metadata": {},
   "outputs": [],
   "source": [
    "# 画图方法\n",
    "\n",
    "def compare_plot(*data):\n",
    "    f, axes = plt.subplots(len(set(merge_csv1['chr']))+1, 2, figsize=(7, 7), sharex=True)\n",
    "    sns.despine(left=True)\n",
    "\n",
    "    for n,da in enumerate(data):\n",
    "        sns.distplot(da[da['pool']=='POOL=1']['depth'], kde=True,label='pool1-all',ax=axes[0,n])\n",
    "        sns.distplot(da[da['pool']=='POOL=2']['depth'], kde=True,label='pool2-all',ax=axes[0,n])    \n",
    "        axes[0,n].legend()\n",
    "        for j,i in enumerate(set(da['chr'])):\n",
    "            sns.distplot(da[(da['pool']=='POOL=1') & (da['chr']==i)]['depth'], \n",
    "                              kde=True,label='pool1-chr{}'.format(i),ax=axes[j+1,n])\n",
    "            sns.distplot(da[(da['pool']=='POOL=2') &(da['chr']==i)]['depth'], \n",
    "                              kde=True,label='pool2-chr{}'.format(i),ax=axes[j+1,n])\n",
    "            axes[j+1,n].legend()"
   ]
  },
  {
   "cell_type": "code",
   "execution_count": null,
   "metadata": {},
   "outputs": [],
   "source": [
    "merge_csv1 = pd.read_csv('./demo_data/twopoolmerge.csv')\n",
    "merge_csv1.columns=['tag','loc','pool','depth']\n",
    "merge_csv1['chr-temp'] = merge_csv1['loc'].str.split(':')\n",
    "merge_csv1['chr'] = merge_csv1['chr-temp'].str.get(0)\n",
    "# print(merge_csv[''])\n",
    "\n",
    "merge_csv2 = pd.read_csv('./demo_data/onePool.csv')\n",
    "merge_csv2.columns=['tag','loc','depth','pool']\n",
    "merge_csv2['chr-temp'] = merge_csv2['loc'].str.split(':')\n",
    "merge_csv2['chr'] = merge_csv2['chr-temp'].str.get(0)\n",
    "print('第一列是分pool进行标准化，第二列为不分pool')\n",
    "compare_plot(merge_csv1,merge_csv2)"
   ]
  },
  {
   "cell_type": "code",
   "execution_count": null,
   "metadata": {},
   "outputs": [],
   "source": [
    "ax = sns.pointplot(x=\"size\",y='tip',data=tips,palette=\"Set2\")\n",
    "ax.plot([1,1],[-5,5],'--',color='red')\n",
    "ax.plot([2,2],[-5,5],'--',color='red')\n",
    "ax.plot([1,2],[4,4],'--',color='yellow')\n",
    "ax.text(x=1.5,y=5,s='LDLR',color='red')"
   ]
  },
  {
   "cell_type": "markdown",
   "metadata": {},
   "source": [
    "## Draw pdf or density"
   ]
  },
  {
   "cell_type": "code",
   "execution_count": null,
   "metadata": {},
   "outputs": [],
   "source": [
    "def draw_density(data,title,value):\n",
    "    ax=sns.distplot(data[value],kde=True)\n",
    "    ax.set_title(title)\n",
    "    fig = ax.get_figure()\n",
    "    fig.savefig('./demo_data/hist.png') "
   ]
  },
  {
   "cell_type": "code",
   "execution_count": null,
   "metadata": {},
   "outputs": [],
   "source": [
    "import numpy as np\n",
    "data=pd.DataFrame(np.random.normal(0,1,(1000,3)),columns=['chr','loc','depth'])\n",
    "print(data.head())\n",
    "draw_density(data,'depth','depth')"
   ]
  },
  {
   "cell_type": "code",
   "execution_count": null,
   "metadata": {},
   "outputs": [],
   "source": [
    "import statsmodels.api as sm\n",
    "data=pd.DataFrame(np.random.normal(0,1,(10000,4)),columns=['C','CHH','CG','CHG'])\n",
    "ecdf = sm.distributions.ECDF(data['C'])\n",
    "x = np.linspace(min(data['C']), max(data['C']))\n",
    "y1 = ecdf(x)\n",
    "ecdf = sm.distributions.ECDF(data['CHH'])\n",
    "y2 = ecdf(x)\n",
    "print(y1,y2)"
   ]
  },
  {
   "cell_type": "code",
   "execution_count": null,
   "metadata": {},
   "outputs": [],
   "source": [
    "sns.set(style=\"whitegrid\")\n",
    "\n",
    "rs = np.random.RandomState(365)\n",
    "values = rs.randn(365, 4).cumsum(axis=0)\n",
    "dates = pd.date_range(\"1 1 2016\", periods=365, freq=\"D\")\n",
    "data = pd.DataFrame(values, dates, columns=[\"A\", \"B\", \"C\", \"D\"])\n",
    "data = data.rolling(7).mean()\n",
    "\n",
    "sns.lineplot(data=data, palette=\"tab10\", linewidth=2.5)"
   ]
  },
  {
   "cell_type": "markdown",
   "metadata": {},
   "source": [
    "## 多种数据类型\n",
    "\n",
    "看如何合适的表示"
   ]
  },
  {
   "cell_type": "code",
   "execution_count": null,
   "metadata": {},
   "outputs": [],
   "source": [
    "mytype = np.random.randint(1,4,20)\n",
    "mydepth = np.random.randint(2,200,20)\n",
    "mypercentage=np.random.rand(20)\n",
    "mycontext = np.random.randint(1,3,20)\n",
    "print(mytype,mydepth,mypercentage,mycontext)"
   ]
  },
  {
   "cell_type": "code",
   "execution_count": null,
   "metadata": {},
   "outputs": [],
   "source": [
    "pd_data = pd.DataFrame(mytype,columns=['type'])\n",
    "pd_data['depth']=mydepth\n",
    "pd_data['percentage']=mypercentage\n",
    "pd_data['context']=mycontext\n",
    "print(pd_data)"
   ]
  },
  {
   "cell_type": "code",
   "execution_count": null,
   "metadata": {},
   "outputs": [],
   "source": [
    "pd_data['context'][pd_data['context'] == 1] = 'CpG'\n",
    "pd_data['context'][pd_data['context'] == 2] = 'CHH'\n",
    "pd_data['type'][pd_data['type'] == 1] = 'cgi'\n",
    "pd_data['type'][pd_data['type'] == 2] = 'promoter'\n",
    "pd_data['type'][pd_data['type'] == 3] = 'nothing'\n",
    "print(pd_data)"
   ]
  },
  {
   "cell_type": "code",
   "execution_count": null,
   "metadata": {},
   "outputs": [],
   "source": [
    "sns.pairplot(pd_data, hue=\"context\")"
   ]
  },
  {
   "cell_type": "code",
   "execution_count": null,
   "metadata": {},
   "outputs": [],
   "source": [
    "sns.pairplot(pd_data, hue=\"type\")"
   ]
  },
  {
   "cell_type": "code",
   "execution_count": null,
   "metadata": {},
   "outputs": [],
   "source": [
    "sns.pairplot(pd_data,hue='depth')"
   ]
  },
  {
   "cell_type": "code",
   "execution_count": null,
   "metadata": {},
   "outputs": [],
   "source": [
    "sns.pairplot(pd_data,hue='percentage')"
   ]
  },
  {
   "cell_type": "code",
   "execution_count": null,
   "metadata": {},
   "outputs": [],
   "source": [
    "sns.pairplot(pd_data)"
   ]
  },
  {
   "cell_type": "markdown",
   "metadata": {},
   "source": [
    "## 甲基化plot\n",
    "\n",
    "不同样本甲基化不同程度差异"
   ]
  },
  {
   "cell_type": "code",
   "execution_count": null,
   "metadata": {},
   "outputs": [],
   "source": [
    "my_data = pd.read_csv('./demo_data/statOfPercentage.csv')\n",
    "my_data = my_data[my_data['contig'] != 'all']\n",
    "\n",
    "g=sns.catplot(x=\"sample\", y=\"count_percent\",hue=\"percentage\" ,data=my_data)\n",
    "# ax=g.get_xticklabels()\n",
    "g.set_xticklabels(rotation=45)"
   ]
  },
  {
   "cell_type": "code",
   "execution_count": null,
   "metadata": {},
   "outputs": [],
   "source": [
    "my_data.groupby('contig').describe()"
   ]
  },
  {
   "cell_type": "code",
   "execution_count": null,
   "metadata": {},
   "outputs": [],
   "source": [
    "my_data2 = pd.read_csv('./demo_data/statOfPercentage_dif_region_gene.csv')\n",
    "my_data2[my_data2['gene']=='.']['gene']='unknown'\n",
    "\n",
    "regions = my_data2['region'].unique()\n",
    "\n"
   ]
  },
  {
   "cell_type": "code",
   "execution_count": null,
   "metadata": {},
   "outputs": [],
   "source": [
    "for region in regions:\n",
    "\n",
    "#     g=sns.catplot(x=\"sample\", y=\"level\",data=my_data2)\n",
    "    g=sns.catplot(x=\"sample\", y=\"level\",kind='boxen',data=my_data2[my_data2['region']==region],hue='region')\n",
    "    # ax=g.get_xticklabels()\n",
    "    g.set_xticklabels(rotation=45)\n",
    "    \n",
    "    g.savefig('./demo_data/rrbs_pics/region_{}.png'.format(region))\n",
    "    # my_data2.head()"
   ]
  },
  {
   "cell_type": "code",
   "execution_count": null,
   "metadata": {},
   "outputs": [],
   "source": [
    "genenames = my_data2['gene'].unique()\n",
    "for gene in genenames:\n",
    "    g=sns.catplot(x=\"sample\", y=\"level\",row='region',hue='region',kind=\"violin\",data=my_data2[my_data2['gene']==gene])\n",
    "    # ax=g.get_xticklabels()\n",
    "    g.set_xticklabels(rotation=45)\n",
    "    g.savefig('./demo_data/rrbs_pics/gene_{}.png'.format(gene))"
   ]
  },
  {
   "cell_type": "code",
   "execution_count": null,
   "metadata": {},
   "outputs": [],
   "source": []
  }
 ],
 "metadata": {
  "kernelspec": {
   "display_name": "Python 3",
   "language": "python",
   "name": "python3"
  },
  "language_info": {
   "codemirror_mode": {
    "name": "ipython",
    "version": 3
   },
   "file_extension": ".py",
   "mimetype": "text/x-python",
   "name": "python",
   "nbconvert_exporter": "python",
   "pygments_lexer": "ipython3",
   "version": "3.6.4"
  }
 },
 "nbformat": 4,
 "nbformat_minor": 2
}
