{
 "cells": [
  {
   "cell_type": "markdown",
   "metadata": {},
   "source": [
    "## 使用python来做lowess"
   ]
  },
  {
   "cell_type": "code",
   "execution_count": 17,
   "metadata": {},
   "outputs": [
    {
     "name": "stdout",
     "output_type": "stream",
     "text": [
      "32\n",
      "32\n"
     ]
    },
    {
     "data": {
      "image/png": "[encoded data removed]",
      "text/plain": [
       "<Figure size 432x288 with 1 Axes>"
      ]
     },
     "metadata": {},
     "output_type": "display_data"
    }
   ],
   "source": [
    "import matplotlib\n",
    "import matplotlib.pyplot as plt\n",
    "# %matplotlib inline\n",
    "from scipy.interpolate import interp1d\n",
    "import statsmodels.api as sm\n",
    "\n",
    "# introduce some floats in our x-values\n",
    "x = list(range(10,25)) +list(range(10,25))+[10,20]\n",
    "y = [1,2,1,2,1,1,3,4,5,4,5,6,5,6,7,8,9,10,11,11,12,11,11,10,12,11,11,10,9,8,2,13]\n",
    "print(len(x))\n",
    "print(len(y))\n",
    "# lowess will return our \"smoothed\" data with a y value for at every x-value\n",
    "lowess = sm.nonparametric.lowess(y, x, frac=.3)\n",
    "\n",
    "# unpack the lowess smoothed points to their values\n",
    "lowess_x = list(zip(*lowess))[0]\n",
    "lowess_y = list(zip(*lowess))[1]\n",
    "\n",
    "# run scipy's interpolation. There is also extrapolation I believe\n",
    "f = interp1d(lowess_x, lowess_y, bounds_error=False)\n",
    "\n",
    "xnew = [i/5. for i in range(400)]\n",
    "\n",
    "# this this generate y values for our xvalues by our interpolator\n",
    "# it will MISS values outsite of the x window (less than 3, greater than 33)\n",
    "# There might be a better approach, but you can run a for loop\n",
    "#and if the value is out of the range, use f(min(lowess_x)) or f(max(lowess_x))\n",
    "ynew = f(xnew)\n",
    "\n",
    "\n",
    "plt.plot(x, y, 'o')\n",
    "plt.plot(lowess_x, lowess_y, '*')\n",
    "plt.plot(xnew, ynew, ',')\n",
    "plt.xlim(0,100)\n",
    "plt.show()"
   ]
  },
  {
   "cell_type": "code",
   "execution_count": null,
   "metadata": {},
   "outputs": [],
   "source": []
  }
 ],
 "metadata": {
  "kernelspec": {
   "display_name": "Python 3",
   "language": "python",
   "name": "python3"
  },
  "language_info": {
   "codemirror_mode": {
    "name": "ipython",
    "version": 3
   },
   "file_extension": ".py",
   "mimetype": "text/x-python",
   "name": "python",
   "nbconvert_exporter": "python",
   "pygments_lexer": "ipython3",
   "version": "3.6.4"
  }
 },
 "nbformat": 4,
 "nbformat_minor": 2
}
